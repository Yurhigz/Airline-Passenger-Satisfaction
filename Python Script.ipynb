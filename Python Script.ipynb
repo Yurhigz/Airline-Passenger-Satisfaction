{
 "cells": [
  {
   "cell_type": "markdown",
   "id": "4f82a520",
   "metadata": {},
   "source": [
    "# Maven Airlines Case Study for Passenger Satisfaction"
   ]
  },
  {
   "cell_type": "markdown",
   "id": "8653bdac",
   "metadata": {},
   "source": [
    "## Introduction : "
   ]
  },
  {
   "cell_type": "markdown",
   "id": "d69d6ec6",
   "metadata": {},
   "source": [
    "For this challenge, you'll be assuming the role of Senior Data Analyst for Maven Airlines, a US-based airline headquartered in Boston, Massachusetts. The latest passenger survey results just came in and it looks like the satisfaction rate dipped under 50% for the first time ever. The leadership team needs to take action fast, so they've brought you in to analyze the data and find the key areas to focus on for getting back on track.\n",
    "\n",
    "Your task is to recommend a data-driven strategy for increasing Maven Airlines' satisfaction rate, and present it in the form of a single page report or dashboard."
   ]
  },
  {
   "cell_type": "markdown",
   "id": "8562b86e",
   "metadata": {},
   "source": [
    "## 1 - Specifications"
   ]
  },
  {
   "cell_type": "markdown",
   "id": "fc84af13",
   "metadata": {},
   "source": [
    "There I will be using the Mavenanalytics data set, as it is made public I assume that everybody is authorized to work on it and I also assume that there is no issue with bias or credibility of this datas."
   ]
  },
  {
   "cell_type": "markdown",
   "id": "a55a22ee",
   "metadata": {},
   "source": [
    "## 2 - Preliminary questions "
   ]
  },
  {
   "cell_type": "markdown",
   "id": "fe44ddef",
   "metadata": {},
   "source": [
    "I wanted to raise as many questions as possible covering all the different criterias of the data set. Basically I will proceed step by step :<br>\n",
    "\n",
    "   - <b>What is the ratio of satisfied passengers to dissatisfied passengers?</b> This one is basic although it remains essential for further analysis <br><br>\n",
    "    \n",
    "   - <b>What is the satisfaction rate by gender stats?</b> By differentiating the gender I might encounter useful results and eventually consider it as a source of improvement for the future recommendations.<br><br>\n",
    "    \n",
    "   - <b>What is the satisfaction rate by customer type of travel and class ?</b> There I will be splitting my results and I could later on focus on what type of class efforts should be made and what kind of travel are most likely required to be worked on<br><br>\n",
    "   - <b>What is the satisfaction rate by flight distance ?</b> There I am going to categorize the travel under 3 categories and use it to increase the granularity of my analysis<br><br>\n",
    "   - Finally, I will also study each features by type of passengers in order to retrieve the factors that affects positively or negatively the customer satisfaction."
   ]
  },
  {
   "cell_type": "markdown",
   "id": "06a57f84",
   "metadata": {},
   "source": [
    "## 3 - Processing the data"
   ]
  },
  {
   "cell_type": "markdown",
   "id": "cc07c4ab",
   "metadata": {},
   "source": [
    "The data set file provided by MavenAnalytics is an excel CSV file. I had several option to exploit this data set, but in this case I am going to use Python and the famous libraries Pandas,Numpy and Seaborn to visualize all my data. Here my objective is not to provide a one page sumary of all the results but rather a paper which will tackle all the questions I have raised and bring proper explanations and solution as a conclusion. "
   ]
  },
  {
   "cell_type": "markdown",
   "id": "9911d4dc",
   "metadata": {},
   "source": [
    "First I will import all the required libraries and I will also convert the CSV file as a dataset. "
   ]
  },
  {
   "cell_type": "code",
   "execution_count": 1,
   "id": "f623c297",
   "metadata": {},
   "outputs": [],
   "source": [
    "import pandas as pd \n",
    "import numpy as np\n",
    "import seaborn as sns\n",
    "import matplotlib.pyplot as plt"
   ]
  },
  {
   "cell_type": "code",
   "execution_count": 2,
   "id": "5c2219f2",
   "metadata": {},
   "outputs": [],
   "source": [
    "df = pd.read_csv('airline_passenger_satisfaction.csv')"
   ]
  },
  {
   "cell_type": "markdown",
   "id": "1b3447b6",
   "metadata": {},
   "source": [
    "Let's inspect quickly the df to get a first glance and eventually spot some issues to correct it quickly."
   ]
  },
  {
   "cell_type": "code",
   "execution_count": 3,
   "id": "9acfc4db",
   "metadata": {},
   "outputs": [
    {
     "data": {
      "text/html": [
       "<div>\n",
       "<style scoped>\n",
       "    .dataframe tbody tr th:only-of-type {\n",
       "        vertical-align: middle;\n",
       "    }\n",
       "\n",
       "    .dataframe tbody tr th {\n",
       "        vertical-align: top;\n",
       "    }\n",
       "\n",
       "    .dataframe thead th {\n",
       "        text-align: right;\n",
       "    }\n",
       "</style>\n",
       "<table border=\"1\" class=\"dataframe\">\n",
       "  <thead>\n",
       "    <tr style=\"text-align: right;\">\n",
       "      <th></th>\n",
       "      <th>ID</th>\n",
       "      <th>Gender</th>\n",
       "      <th>Age</th>\n",
       "      <th>Customer Type</th>\n",
       "      <th>Type of Travel</th>\n",
       "      <th>Class</th>\n",
       "      <th>Flight Distance</th>\n",
       "      <th>Departure Delay</th>\n",
       "      <th>Arrival Delay</th>\n",
       "      <th>Departure and Arrival Time Convenience</th>\n",
       "      <th>...</th>\n",
       "      <th>On-board Service</th>\n",
       "      <th>Seat Comfort</th>\n",
       "      <th>Leg Room Service</th>\n",
       "      <th>Cleanliness</th>\n",
       "      <th>Food and Drink</th>\n",
       "      <th>In-flight Service</th>\n",
       "      <th>In-flight Wifi Service</th>\n",
       "      <th>In-flight Entertainment</th>\n",
       "      <th>Baggage Handling</th>\n",
       "      <th>Satisfaction</th>\n",
       "    </tr>\n",
       "  </thead>\n",
       "  <tbody>\n",
       "    <tr>\n",
       "      <th>0</th>\n",
       "      <td>1</td>\n",
       "      <td>Male</td>\n",
       "      <td>48</td>\n",
       "      <td>First-time</td>\n",
       "      <td>Business</td>\n",
       "      <td>Business</td>\n",
       "      <td>821</td>\n",
       "      <td>2</td>\n",
       "      <td>5.0</td>\n",
       "      <td>3</td>\n",
       "      <td>...</td>\n",
       "      <td>3</td>\n",
       "      <td>5</td>\n",
       "      <td>2</td>\n",
       "      <td>5</td>\n",
       "      <td>5</td>\n",
       "      <td>5</td>\n",
       "      <td>3</td>\n",
       "      <td>5</td>\n",
       "      <td>5</td>\n",
       "      <td>Neutral or Dissatisfied</td>\n",
       "    </tr>\n",
       "    <tr>\n",
       "      <th>1</th>\n",
       "      <td>2</td>\n",
       "      <td>Female</td>\n",
       "      <td>35</td>\n",
       "      <td>Returning</td>\n",
       "      <td>Business</td>\n",
       "      <td>Business</td>\n",
       "      <td>821</td>\n",
       "      <td>26</td>\n",
       "      <td>39.0</td>\n",
       "      <td>2</td>\n",
       "      <td>...</td>\n",
       "      <td>5</td>\n",
       "      <td>4</td>\n",
       "      <td>5</td>\n",
       "      <td>5</td>\n",
       "      <td>3</td>\n",
       "      <td>5</td>\n",
       "      <td>2</td>\n",
       "      <td>5</td>\n",
       "      <td>5</td>\n",
       "      <td>Satisfied</td>\n",
       "    </tr>\n",
       "    <tr>\n",
       "      <th>2</th>\n",
       "      <td>3</td>\n",
       "      <td>Male</td>\n",
       "      <td>41</td>\n",
       "      <td>Returning</td>\n",
       "      <td>Business</td>\n",
       "      <td>Business</td>\n",
       "      <td>853</td>\n",
       "      <td>0</td>\n",
       "      <td>0.0</td>\n",
       "      <td>4</td>\n",
       "      <td>...</td>\n",
       "      <td>3</td>\n",
       "      <td>5</td>\n",
       "      <td>3</td>\n",
       "      <td>5</td>\n",
       "      <td>5</td>\n",
       "      <td>3</td>\n",
       "      <td>4</td>\n",
       "      <td>3</td>\n",
       "      <td>3</td>\n",
       "      <td>Satisfied</td>\n",
       "    </tr>\n",
       "    <tr>\n",
       "      <th>3</th>\n",
       "      <td>4</td>\n",
       "      <td>Male</td>\n",
       "      <td>50</td>\n",
       "      <td>Returning</td>\n",
       "      <td>Business</td>\n",
       "      <td>Business</td>\n",
       "      <td>1905</td>\n",
       "      <td>0</td>\n",
       "      <td>0.0</td>\n",
       "      <td>2</td>\n",
       "      <td>...</td>\n",
       "      <td>5</td>\n",
       "      <td>5</td>\n",
       "      <td>5</td>\n",
       "      <td>4</td>\n",
       "      <td>4</td>\n",
       "      <td>5</td>\n",
       "      <td>2</td>\n",
       "      <td>5</td>\n",
       "      <td>5</td>\n",
       "      <td>Satisfied</td>\n",
       "    </tr>\n",
       "    <tr>\n",
       "      <th>4</th>\n",
       "      <td>5</td>\n",
       "      <td>Female</td>\n",
       "      <td>49</td>\n",
       "      <td>Returning</td>\n",
       "      <td>Business</td>\n",
       "      <td>Business</td>\n",
       "      <td>3470</td>\n",
       "      <td>0</td>\n",
       "      <td>1.0</td>\n",
       "      <td>3</td>\n",
       "      <td>...</td>\n",
       "      <td>3</td>\n",
       "      <td>4</td>\n",
       "      <td>4</td>\n",
       "      <td>5</td>\n",
       "      <td>4</td>\n",
       "      <td>3</td>\n",
       "      <td>3</td>\n",
       "      <td>3</td>\n",
       "      <td>3</td>\n",
       "      <td>Satisfied</td>\n",
       "    </tr>\n",
       "  </tbody>\n",
       "</table>\n",
       "<p>5 rows × 24 columns</p>\n",
       "</div>"
      ],
      "text/plain": [
       "   ID  Gender  Age Customer Type Type of Travel     Class  Flight Distance  \\\n",
       "0   1    Male   48    First-time       Business  Business              821   \n",
       "1   2  Female   35     Returning       Business  Business              821   \n",
       "2   3    Male   41     Returning       Business  Business              853   \n",
       "3   4    Male   50     Returning       Business  Business             1905   \n",
       "4   5  Female   49     Returning       Business  Business             3470   \n",
       "\n",
       "   Departure Delay  Arrival Delay  Departure and Arrival Time Convenience  \\\n",
       "0                2            5.0                                       3   \n",
       "1               26           39.0                                       2   \n",
       "2                0            0.0                                       4   \n",
       "3                0            0.0                                       2   \n",
       "4                0            1.0                                       3   \n",
       "\n",
       "   ...  On-board Service  Seat Comfort  Leg Room Service  Cleanliness  \\\n",
       "0  ...                 3             5                 2            5   \n",
       "1  ...                 5             4                 5            5   \n",
       "2  ...                 3             5                 3            5   \n",
       "3  ...                 5             5                 5            4   \n",
       "4  ...                 3             4                 4            5   \n",
       "\n",
       "   Food and Drink  In-flight Service  In-flight Wifi Service  \\\n",
       "0               5                  5                       3   \n",
       "1               3                  5                       2   \n",
       "2               5                  3                       4   \n",
       "3               4                  5                       2   \n",
       "4               4                  3                       3   \n",
       "\n",
       "   In-flight Entertainment  Baggage Handling             Satisfaction  \n",
       "0                        5                 5  Neutral or Dissatisfied  \n",
       "1                        5                 5                Satisfied  \n",
       "2                        3                 3                Satisfied  \n",
       "3                        5                 5                Satisfied  \n",
       "4                        3                 3                Satisfied  \n",
       "\n",
       "[5 rows x 24 columns]"
      ]
     },
     "execution_count": 3,
     "metadata": {},
     "output_type": "execute_result"
    }
   ],
   "source": [
    "df.head()"
   ]
  },
  {
   "cell_type": "markdown",
   "id": "ee69d096",
   "metadata": {},
   "source": [
    "First thing, I am going to lowercase and formate the column's headers."
   ]
  },
  {
   "cell_type": "code",
   "execution_count": 4,
   "id": "b8686219",
   "metadata": {},
   "outputs": [],
   "source": [
    "df.columns = df.columns.str.lower().str.replace(' ','_')"
   ]
  },
  {
   "cell_type": "markdown",
   "id": "4e6af85a",
   "metadata": {},
   "source": [
    "Now I am looking for Null or missing value in the entire dataset."
   ]
  },
  {
   "cell_type": "code",
   "execution_count": 5,
   "id": "1b681311",
   "metadata": {},
   "outputs": [
    {
     "data": {
      "text/plain": [
       "id                                          0\n",
       "gender                                      0\n",
       "age                                         0\n",
       "customer_type                               0\n",
       "type_of_travel                              0\n",
       "class                                       0\n",
       "flight_distance                             0\n",
       "departure_delay                             0\n",
       "arrival_delay                             393\n",
       "departure_and_arrival_time_convenience      0\n",
       "ease_of_online_booking                      0\n",
       "check-in_service                            0\n",
       "online_boarding                             0\n",
       "gate_location                               0\n",
       "on-board_service                            0\n",
       "seat_comfort                                0\n",
       "leg_room_service                            0\n",
       "cleanliness                                 0\n",
       "food_and_drink                              0\n",
       "in-flight_service                           0\n",
       "in-flight_wifi_service                      0\n",
       "in-flight_entertainment                     0\n",
       "baggage_handling                            0\n",
       "satisfaction                                0\n",
       "dtype: int64"
      ]
     },
     "execution_count": 5,
     "metadata": {},
     "output_type": "execute_result"
    }
   ],
   "source": [
    "df.isnull().sum()"
   ]
  },
  {
   "cell_type": "markdown",
   "id": "fe0f4d0e",
   "metadata": {},
   "source": [
    "There are missing values in the 'arrival_delay' column. Thus I am going to check for these missing values and eventually replace them by 0 as I assume that means there were no delay."
   ]
  },
  {
   "cell_type": "code",
   "execution_count": 6,
   "id": "171f3536",
   "metadata": {},
   "outputs": [],
   "source": [
    "df.loc[df.arrival_delay.isnull() == True,'arrival_delay'] = 0 "
   ]
  },
  {
   "cell_type": "code",
   "execution_count": 7,
   "id": "fb497ca0",
   "metadata": {},
   "outputs": [
    {
     "name": "stdout",
     "output_type": "stream",
     "text": [
      "<class 'pandas.core.frame.DataFrame'>\n",
      "RangeIndex: 129880 entries, 0 to 129879\n",
      "Data columns (total 24 columns):\n",
      " #   Column                                  Non-Null Count   Dtype  \n",
      "---  ------                                  --------------   -----  \n",
      " 0   id                                      129880 non-null  int64  \n",
      " 1   gender                                  129880 non-null  object \n",
      " 2   age                                     129880 non-null  int64  \n",
      " 3   customer_type                           129880 non-null  object \n",
      " 4   type_of_travel                          129880 non-null  object \n",
      " 5   class                                   129880 non-null  object \n",
      " 6   flight_distance                         129880 non-null  int64  \n",
      " 7   departure_delay                         129880 non-null  int64  \n",
      " 8   arrival_delay                           129880 non-null  float64\n",
      " 9   departure_and_arrival_time_convenience  129880 non-null  int64  \n",
      " 10  ease_of_online_booking                  129880 non-null  int64  \n",
      " 11  check-in_service                        129880 non-null  int64  \n",
      " 12  online_boarding                         129880 non-null  int64  \n",
      " 13  gate_location                           129880 non-null  int64  \n",
      " 14  on-board_service                        129880 non-null  int64  \n",
      " 15  seat_comfort                            129880 non-null  int64  \n",
      " 16  leg_room_service                        129880 non-null  int64  \n",
      " 17  cleanliness                             129880 non-null  int64  \n",
      " 18  food_and_drink                          129880 non-null  int64  \n",
      " 19  in-flight_service                       129880 non-null  int64  \n",
      " 20  in-flight_wifi_service                  129880 non-null  int64  \n",
      " 21  in-flight_entertainment                 129880 non-null  int64  \n",
      " 22  baggage_handling                        129880 non-null  int64  \n",
      " 23  satisfaction                            129880 non-null  object \n",
      "dtypes: float64(1), int64(18), object(5)\n",
      "memory usage: 23.8+ MB\n"
     ]
    }
   ],
   "source": [
    "df.info()"
   ]
  },
  {
   "cell_type": "markdown",
   "id": "98816781",
   "metadata": {},
   "source": [
    "Alright so far it seems there is no more missing values, the data seems coherent. I am going to proceed to specific changes, first I am going to create age categories as it's gonna be useful later on. Second, I also create flight distance range column."
   ]
  },
  {
   "cell_type": "markdown",
   "id": "65086e27",
   "metadata": {},
   "source": [
    "I purposely chose to create arbitrary age range to avoid any distribution problem."
   ]
  },
  {
   "cell_type": "code",
   "execution_count": 9,
   "id": "0952943f",
   "metadata": {},
   "outputs": [],
   "source": [
    "age_category = [0,10,20,30,40,50,60,70]"
   ]
  },
  {
   "cell_type": "code",
   "execution_count": 12,
   "id": "d6c6f4ae",
   "metadata": {},
   "outputs": [],
   "source": [
    "df['age_category']=pd.cut(df.age,age_category)"
   ]
  },
  {
   "cell_type": "code",
   "execution_count": 13,
   "id": "1f28ee96",
   "metadata": {},
   "outputs": [
    {
     "data": {
      "text/html": [
       "<div>\n",
       "<style scoped>\n",
       "    .dataframe tbody tr th:only-of-type {\n",
       "        vertical-align: middle;\n",
       "    }\n",
       "\n",
       "    .dataframe tbody tr th {\n",
       "        vertical-align: top;\n",
       "    }\n",
       "\n",
       "    .dataframe thead th {\n",
       "        text-align: right;\n",
       "    }\n",
       "</style>\n",
       "<table border=\"1\" class=\"dataframe\">\n",
       "  <thead>\n",
       "    <tr style=\"text-align: right;\">\n",
       "      <th></th>\n",
       "      <th>id</th>\n",
       "      <th>gender</th>\n",
       "      <th>age</th>\n",
       "      <th>customer_type</th>\n",
       "      <th>type_of_travel</th>\n",
       "      <th>class</th>\n",
       "      <th>flight_distance</th>\n",
       "      <th>departure_delay</th>\n",
       "      <th>arrival_delay</th>\n",
       "      <th>departure_and_arrival_time_convenience</th>\n",
       "      <th>...</th>\n",
       "      <th>seat_comfort</th>\n",
       "      <th>leg_room_service</th>\n",
       "      <th>cleanliness</th>\n",
       "      <th>food_and_drink</th>\n",
       "      <th>in-flight_service</th>\n",
       "      <th>in-flight_wifi_service</th>\n",
       "      <th>in-flight_entertainment</th>\n",
       "      <th>baggage_handling</th>\n",
       "      <th>satisfaction</th>\n",
       "      <th>age_category</th>\n",
       "    </tr>\n",
       "  </thead>\n",
       "  <tbody>\n",
       "    <tr>\n",
       "      <th>0</th>\n",
       "      <td>1</td>\n",
       "      <td>Male</td>\n",
       "      <td>48</td>\n",
       "      <td>First-time</td>\n",
       "      <td>Business</td>\n",
       "      <td>Business</td>\n",
       "      <td>821</td>\n",
       "      <td>2</td>\n",
       "      <td>5.0</td>\n",
       "      <td>3</td>\n",
       "      <td>...</td>\n",
       "      <td>5</td>\n",
       "      <td>2</td>\n",
       "      <td>5</td>\n",
       "      <td>5</td>\n",
       "      <td>5</td>\n",
       "      <td>3</td>\n",
       "      <td>5</td>\n",
       "      <td>5</td>\n",
       "      <td>Neutral or Dissatisfied</td>\n",
       "      <td>(40, 50]</td>\n",
       "    </tr>\n",
       "    <tr>\n",
       "      <th>1</th>\n",
       "      <td>2</td>\n",
       "      <td>Female</td>\n",
       "      <td>35</td>\n",
       "      <td>Returning</td>\n",
       "      <td>Business</td>\n",
       "      <td>Business</td>\n",
       "      <td>821</td>\n",
       "      <td>26</td>\n",
       "      <td>39.0</td>\n",
       "      <td>2</td>\n",
       "      <td>...</td>\n",
       "      <td>4</td>\n",
       "      <td>5</td>\n",
       "      <td>5</td>\n",
       "      <td>3</td>\n",
       "      <td>5</td>\n",
       "      <td>2</td>\n",
       "      <td>5</td>\n",
       "      <td>5</td>\n",
       "      <td>Satisfied</td>\n",
       "      <td>(30, 40]</td>\n",
       "    </tr>\n",
       "    <tr>\n",
       "      <th>2</th>\n",
       "      <td>3</td>\n",
       "      <td>Male</td>\n",
       "      <td>41</td>\n",
       "      <td>Returning</td>\n",
       "      <td>Business</td>\n",
       "      <td>Business</td>\n",
       "      <td>853</td>\n",
       "      <td>0</td>\n",
       "      <td>0.0</td>\n",
       "      <td>4</td>\n",
       "      <td>...</td>\n",
       "      <td>5</td>\n",
       "      <td>3</td>\n",
       "      <td>5</td>\n",
       "      <td>5</td>\n",
       "      <td>3</td>\n",
       "      <td>4</td>\n",
       "      <td>3</td>\n",
       "      <td>3</td>\n",
       "      <td>Satisfied</td>\n",
       "      <td>(40, 50]</td>\n",
       "    </tr>\n",
       "    <tr>\n",
       "      <th>3</th>\n",
       "      <td>4</td>\n",
       "      <td>Male</td>\n",
       "      <td>50</td>\n",
       "      <td>Returning</td>\n",
       "      <td>Business</td>\n",
       "      <td>Business</td>\n",
       "      <td>1905</td>\n",
       "      <td>0</td>\n",
       "      <td>0.0</td>\n",
       "      <td>2</td>\n",
       "      <td>...</td>\n",
       "      <td>5</td>\n",
       "      <td>5</td>\n",
       "      <td>4</td>\n",
       "      <td>4</td>\n",
       "      <td>5</td>\n",
       "      <td>2</td>\n",
       "      <td>5</td>\n",
       "      <td>5</td>\n",
       "      <td>Satisfied</td>\n",
       "      <td>(40, 50]</td>\n",
       "    </tr>\n",
       "    <tr>\n",
       "      <th>4</th>\n",
       "      <td>5</td>\n",
       "      <td>Female</td>\n",
       "      <td>49</td>\n",
       "      <td>Returning</td>\n",
       "      <td>Business</td>\n",
       "      <td>Business</td>\n",
       "      <td>3470</td>\n",
       "      <td>0</td>\n",
       "      <td>1.0</td>\n",
       "      <td>3</td>\n",
       "      <td>...</td>\n",
       "      <td>4</td>\n",
       "      <td>4</td>\n",
       "      <td>5</td>\n",
       "      <td>4</td>\n",
       "      <td>3</td>\n",
       "      <td>3</td>\n",
       "      <td>3</td>\n",
       "      <td>3</td>\n",
       "      <td>Satisfied</td>\n",
       "      <td>(40, 50]</td>\n",
       "    </tr>\n",
       "  </tbody>\n",
       "</table>\n",
       "<p>5 rows × 25 columns</p>\n",
       "</div>"
      ],
      "text/plain": [
       "   id  gender  age customer_type type_of_travel     class  flight_distance  \\\n",
       "0   1    Male   48    First-time       Business  Business              821   \n",
       "1   2  Female   35     Returning       Business  Business              821   \n",
       "2   3    Male   41     Returning       Business  Business              853   \n",
       "3   4    Male   50     Returning       Business  Business             1905   \n",
       "4   5  Female   49     Returning       Business  Business             3470   \n",
       "\n",
       "   departure_delay  arrival_delay  departure_and_arrival_time_convenience  \\\n",
       "0                2            5.0                                       3   \n",
       "1               26           39.0                                       2   \n",
       "2                0            0.0                                       4   \n",
       "3                0            0.0                                       2   \n",
       "4                0            1.0                                       3   \n",
       "\n",
       "   ...  seat_comfort  leg_room_service  cleanliness  food_and_drink  \\\n",
       "0  ...             5                 2            5               5   \n",
       "1  ...             4                 5            5               3   \n",
       "2  ...             5                 3            5               5   \n",
       "3  ...             5                 5            4               4   \n",
       "4  ...             4                 4            5               4   \n",
       "\n",
       "   in-flight_service  in-flight_wifi_service  in-flight_entertainment  \\\n",
       "0                  5                       3                        5   \n",
       "1                  5                       2                        5   \n",
       "2                  3                       4                        3   \n",
       "3                  5                       2                        5   \n",
       "4                  3                       3                        3   \n",
       "\n",
       "   baggage_handling             satisfaction  age_category  \n",
       "0                 5  Neutral or Dissatisfied      (40, 50]  \n",
       "1                 5                Satisfied      (30, 40]  \n",
       "2                 3                Satisfied      (40, 50]  \n",
       "3                 5                Satisfied      (40, 50]  \n",
       "4                 3                Satisfied      (40, 50]  \n",
       "\n",
       "[5 rows x 25 columns]"
      ]
     },
     "execution_count": 13,
     "metadata": {},
     "output_type": "execute_result"
    }
   ],
   "source": [
    "df.head()"
   ]
  },
  {
   "cell_type": "markdown",
   "id": "cd8e60d7",
   "metadata": {},
   "source": [
    "Now the dataset is perfectly ready to start my analysis and further then the visualization."
   ]
  },
  {
   "cell_type": "markdown",
   "id": "512761f7",
   "metadata": {},
   "source": [
    "## 4 - Analyzing the Data"
   ]
  },
  {
   "cell_type": "markdown",
   "id": "63e930c2",
   "metadata": {},
   "source": [
    "### Satisfaction By Gender"
   ]
  },
  {
   "cell_type": "markdown",
   "id": "2377fd31",
   "metadata": {},
   "source": [
    "First, I am going to study the distribution of the gender across the passengers."
   ]
  },
  {
   "cell_type": "code",
   "execution_count": 24,
   "id": "af9b7b19",
   "metadata": {},
   "outputs": [
    {
     "data": {
      "text/plain": [
       "50.738373883584856"
      ]
     },
     "execution_count": 24,
     "metadata": {},
     "output_type": "execute_result"
    }
   ],
   "source": [
    "(df[df.gender=='Female'].count()[0] / df.count()[0] )*100"
   ]
  },
  {
   "cell_type": "markdown",
   "id": "7ac9aff0",
   "metadata": {},
   "source": [
    "The gender distribution is quite equal, indeed <b>50,73%</b> of the customer are women and <b>49.27%</b> are men. Now let's check what about customer satisfaction according to the genre, it will give us first insights about satisfaction."
   ]
  },
  {
   "cell_type": "code",
   "execution_count": 67,
   "id": "95b3ccd2",
   "metadata": {},
   "outputs": [
    {
     "data": {
      "image/png": "[encoded data removed]",
      "text/plain": [
       "<Figure size 1440x1440 with 2 Axes>"
      ]
     },
     "metadata": {},
     "output_type": "display_data"
    }
   ],
   "source": [
    "fig = plt.figure(figsize = (20,20))\n",
    "i=1\n",
    "for characteristic in df.gender.unique():\n",
    "    plt.subplot(5,5,i)\n",
    "    ax = plt.pie(df.loc[df.gender==characteristic].groupby('satisfaction').size(),\n",
    "                 labels = ['Disatisfied','Satisfied'],\n",
    "                autopct='%1.1f%%' )\n",
    "    plt.title(characteristic + ' Satisfaction',loc='center')\n",
    "    i += 1\n",
    "    "
   ]
  },
  {
   "cell_type": "markdown",
   "id": "8e67dca1",
   "metadata": {},
   "source": [
    "Basically, there is no big difference among the gender, <b>they are both mainly globally unsatisfied. </b>"
   ]
  },
  {
   "cell_type": "code",
   "execution_count": 68,
   "id": "2752633b",
   "metadata": {},
   "outputs": [
    {
     "data": {
      "text/html": [
       "<div>\n",
       "<style scoped>\n",
       "    .dataframe tbody tr th:only-of-type {\n",
       "        vertical-align: middle;\n",
       "    }\n",
       "\n",
       "    .dataframe tbody tr th {\n",
       "        vertical-align: top;\n",
       "    }\n",
       "\n",
       "    .dataframe thead th {\n",
       "        text-align: right;\n",
       "    }\n",
       "</style>\n",
       "<table border=\"1\" class=\"dataframe\">\n",
       "  <thead>\n",
       "    <tr style=\"text-align: right;\">\n",
       "      <th></th>\n",
       "      <th>id</th>\n",
       "      <th>gender</th>\n",
       "      <th>age</th>\n",
       "      <th>customer_type</th>\n",
       "      <th>type_of_travel</th>\n",
       "      <th>class</th>\n",
       "      <th>flight_distance</th>\n",
       "      <th>departure_delay</th>\n",
       "      <th>arrival_delay</th>\n",
       "      <th>departure_and_arrival_time_convenience</th>\n",
       "      <th>...</th>\n",
       "      <th>seat_comfort</th>\n",
       "      <th>leg_room_service</th>\n",
       "      <th>cleanliness</th>\n",
       "      <th>food_and_drink</th>\n",
       "      <th>in-flight_service</th>\n",
       "      <th>in-flight_wifi_service</th>\n",
       "      <th>in-flight_entertainment</th>\n",
       "      <th>baggage_handling</th>\n",
       "      <th>satisfaction</th>\n",
       "      <th>age_category</th>\n",
       "    </tr>\n",
       "  </thead>\n",
       "  <tbody>\n",
       "    <tr>\n",
       "      <th>0</th>\n",
       "      <td>1</td>\n",
       "      <td>Male</td>\n",
       "      <td>48</td>\n",
       "      <td>First-time</td>\n",
       "      <td>Business</td>\n",
       "      <td>Business</td>\n",
       "      <td>821</td>\n",
       "      <td>2</td>\n",
       "      <td>5.0</td>\n",
       "      <td>3</td>\n",
       "      <td>...</td>\n",
       "      <td>5</td>\n",
       "      <td>2</td>\n",
       "      <td>5</td>\n",
       "      <td>5</td>\n",
       "      <td>5</td>\n",
       "      <td>3</td>\n",
       "      <td>5</td>\n",
       "      <td>5</td>\n",
       "      <td>Neutral or Dissatisfied</td>\n",
       "      <td>(40, 50]</td>\n",
       "    </tr>\n",
       "    <tr>\n",
       "      <th>1</th>\n",
       "      <td>2</td>\n",
       "      <td>Female</td>\n",
       "      <td>35</td>\n",
       "      <td>Returning</td>\n",
       "      <td>Business</td>\n",
       "      <td>Business</td>\n",
       "      <td>821</td>\n",
       "      <td>26</td>\n",
       "      <td>39.0</td>\n",
       "      <td>2</td>\n",
       "      <td>...</td>\n",
       "      <td>4</td>\n",
       "      <td>5</td>\n",
       "      <td>5</td>\n",
       "      <td>3</td>\n",
       "      <td>5</td>\n",
       "      <td>2</td>\n",
       "      <td>5</td>\n",
       "      <td>5</td>\n",
       "      <td>Satisfied</td>\n",
       "      <td>(30, 40]</td>\n",
       "    </tr>\n",
       "    <tr>\n",
       "      <th>2</th>\n",
       "      <td>3</td>\n",
       "      <td>Male</td>\n",
       "      <td>41</td>\n",
       "      <td>Returning</td>\n",
       "      <td>Business</td>\n",
       "      <td>Business</td>\n",
       "      <td>853</td>\n",
       "      <td>0</td>\n",
       "      <td>0.0</td>\n",
       "      <td>4</td>\n",
       "      <td>...</td>\n",
       "      <td>5</td>\n",
       "      <td>3</td>\n",
       "      <td>5</td>\n",
       "      <td>5</td>\n",
       "      <td>3</td>\n",
       "      <td>4</td>\n",
       "      <td>3</td>\n",
       "      <td>3</td>\n",
       "      <td>Satisfied</td>\n",
       "      <td>(40, 50]</td>\n",
       "    </tr>\n",
       "    <tr>\n",
       "      <th>3</th>\n",
       "      <td>4</td>\n",
       "      <td>Male</td>\n",
       "      <td>50</td>\n",
       "      <td>Returning</td>\n",
       "      <td>Business</td>\n",
       "      <td>Business</td>\n",
       "      <td>1905</td>\n",
       "      <td>0</td>\n",
       "      <td>0.0</td>\n",
       "      <td>2</td>\n",
       "      <td>...</td>\n",
       "      <td>5</td>\n",
       "      <td>5</td>\n",
       "      <td>4</td>\n",
       "      <td>4</td>\n",
       "      <td>5</td>\n",
       "      <td>2</td>\n",
       "      <td>5</td>\n",
       "      <td>5</td>\n",
       "      <td>Satisfied</td>\n",
       "      <td>(40, 50]</td>\n",
       "    </tr>\n",
       "    <tr>\n",
       "      <th>4</th>\n",
       "      <td>5</td>\n",
       "      <td>Female</td>\n",
       "      <td>49</td>\n",
       "      <td>Returning</td>\n",
       "      <td>Business</td>\n",
       "      <td>Business</td>\n",
       "      <td>3470</td>\n",
       "      <td>0</td>\n",
       "      <td>1.0</td>\n",
       "      <td>3</td>\n",
       "      <td>...</td>\n",
       "      <td>4</td>\n",
       "      <td>4</td>\n",
       "      <td>5</td>\n",
       "      <td>4</td>\n",
       "      <td>3</td>\n",
       "      <td>3</td>\n",
       "      <td>3</td>\n",
       "      <td>3</td>\n",
       "      <td>Satisfied</td>\n",
       "      <td>(40, 50]</td>\n",
       "    </tr>\n",
       "  </tbody>\n",
       "</table>\n",
       "<p>5 rows × 25 columns</p>\n",
       "</div>"
      ],
      "text/plain": [
       "   id  gender  age customer_type type_of_travel     class  flight_distance  \\\n",
       "0   1    Male   48    First-time       Business  Business              821   \n",
       "1   2  Female   35     Returning       Business  Business              821   \n",
       "2   3    Male   41     Returning       Business  Business              853   \n",
       "3   4    Male   50     Returning       Business  Business             1905   \n",
       "4   5  Female   49     Returning       Business  Business             3470   \n",
       "\n",
       "   departure_delay  arrival_delay  departure_and_arrival_time_convenience  \\\n",
       "0                2            5.0                                       3   \n",
       "1               26           39.0                                       2   \n",
       "2                0            0.0                                       4   \n",
       "3                0            0.0                                       2   \n",
       "4                0            1.0                                       3   \n",
       "\n",
       "   ...  seat_comfort  leg_room_service  cleanliness  food_and_drink  \\\n",
       "0  ...             5                 2            5               5   \n",
       "1  ...             4                 5            5               3   \n",
       "2  ...             5                 3            5               5   \n",
       "3  ...             5                 5            4               4   \n",
       "4  ...             4                 4            5               4   \n",
       "\n",
       "   in-flight_service  in-flight_wifi_service  in-flight_entertainment  \\\n",
       "0                  5                       3                        5   \n",
       "1                  5                       2                        5   \n",
       "2                  3                       4                        3   \n",
       "3                  5                       2                        5   \n",
       "4                  3                       3                        3   \n",
       "\n",
       "   baggage_handling             satisfaction  age_category  \n",
       "0                 5  Neutral or Dissatisfied      (40, 50]  \n",
       "1                 5                Satisfied      (30, 40]  \n",
       "2                 3                Satisfied      (40, 50]  \n",
       "3                 5                Satisfied      (40, 50]  \n",
       "4                 3                Satisfied      (40, 50]  \n",
       "\n",
       "[5 rows x 25 columns]"
      ]
     },
     "execution_count": 68,
     "metadata": {},
     "output_type": "execute_result"
    }
   ],
   "source": [
    "df.head()"
   ]
  },
  {
   "cell_type": "markdown",
   "id": "5925126a",
   "metadata": {},
   "source": [
    "### Satisfaction by Age Category"
   ]
  },
  {
   "cell_type": "code",
   "execution_count": null,
   "id": "1ccd6447",
   "metadata": {},
   "outputs": [],
   "source": []
  },
  {
   "cell_type": "code",
   "execution_count": null,
   "id": "882521bf",
   "metadata": {},
   "outputs": [],
   "source": []
  },
  {
   "cell_type": "code",
   "execution_count": null,
   "id": "c1ca9e7a",
   "metadata": {},
   "outputs": [],
   "source": []
  },
  {
   "cell_type": "code",
   "execution_count": null,
   "id": "e6edf2eb",
   "metadata": {},
   "outputs": [],
   "source": []
  },
  {
   "cell_type": "markdown",
   "id": "0ee6dd13",
   "metadata": {},
   "source": [
    "### Satisfaction by Customer Type "
   ]
  },
  {
   "cell_type": "code",
   "execution_count": null,
   "id": "9df70444",
   "metadata": {},
   "outputs": [],
   "source": []
  },
  {
   "cell_type": "code",
   "execution_count": null,
   "id": "897b95c1",
   "metadata": {},
   "outputs": [],
   "source": []
  },
  {
   "cell_type": "code",
   "execution_count": null,
   "id": "032a4ef0",
   "metadata": {},
   "outputs": [],
   "source": []
  },
  {
   "cell_type": "code",
   "execution_count": null,
   "id": "1c9f2c95",
   "metadata": {},
   "outputs": [],
   "source": []
  },
  {
   "cell_type": "markdown",
   "id": "560e51e0",
   "metadata": {},
   "source": [
    "### Satisfaction by Type Of Travel "
   ]
  },
  {
   "cell_type": "code",
   "execution_count": null,
   "id": "69c5144a",
   "metadata": {},
   "outputs": [],
   "source": []
  },
  {
   "cell_type": "code",
   "execution_count": null,
   "id": "d22af77e",
   "metadata": {},
   "outputs": [],
   "source": []
  },
  {
   "cell_type": "code",
   "execution_count": null,
   "id": "bdf30c02",
   "metadata": {},
   "outputs": [],
   "source": []
  },
  {
   "cell_type": "code",
   "execution_count": null,
   "id": "e21e53c6",
   "metadata": {},
   "outputs": [],
   "source": []
  },
  {
   "cell_type": "markdown",
   "id": "3f13eedd",
   "metadata": {},
   "source": [
    "### Satisfaction by Class "
   ]
  },
  {
   "cell_type": "code",
   "execution_count": null,
   "id": "1722c5ac",
   "metadata": {},
   "outputs": [],
   "source": []
  },
  {
   "cell_type": "code",
   "execution_count": null,
   "id": "5ee78e7c",
   "metadata": {},
   "outputs": [],
   "source": []
  },
  {
   "cell_type": "code",
   "execution_count": null,
   "id": "9e076da1",
   "metadata": {},
   "outputs": [],
   "source": []
  },
  {
   "cell_type": "code",
   "execution_count": null,
   "id": "df68d64e",
   "metadata": {},
   "outputs": [],
   "source": []
  },
  {
   "cell_type": "markdown",
   "id": "0ef711c6",
   "metadata": {},
   "source": [
    "### Satisfaction by Flight Distance"
   ]
  },
  {
   "cell_type": "code",
   "execution_count": null,
   "id": "1005f961",
   "metadata": {},
   "outputs": [],
   "source": []
  },
  {
   "cell_type": "code",
   "execution_count": null,
   "id": "480af914",
   "metadata": {},
   "outputs": [],
   "source": []
  },
  {
   "cell_type": "code",
   "execution_count": null,
   "id": "edf12bfb",
   "metadata": {},
   "outputs": [],
   "source": []
  },
  {
   "cell_type": "code",
   "execution_count": null,
   "id": "85e28dad",
   "metadata": {},
   "outputs": [],
   "source": []
  },
  {
   "cell_type": "code",
   "execution_count": null,
   "id": "18a964de",
   "metadata": {},
   "outputs": [],
   "source": []
  },
  {
   "cell_type": "markdown",
   "id": "6dbc06fa",
   "metadata": {},
   "source": [
    "### Global Satisfaction  "
   ]
  },
  {
   "cell_type": "code",
   "execution_count": null,
   "id": "6751e9df",
   "metadata": {},
   "outputs": [],
   "source": []
  },
  {
   "cell_type": "code",
   "execution_count": null,
   "id": "dfb84dd9",
   "metadata": {},
   "outputs": [],
   "source": []
  },
  {
   "cell_type": "code",
   "execution_count": null,
   "id": "8e1d0c70",
   "metadata": {},
   "outputs": [],
   "source": []
  },
  {
   "cell_type": "code",
   "execution_count": null,
   "id": "42bd538c",
   "metadata": {},
   "outputs": [],
   "source": []
  },
  {
   "cell_type": "code",
   "execution_count": null,
   "id": "b4f43ece",
   "metadata": {},
   "outputs": [],
   "source": []
  }
 ],
 "metadata": {
  "kernelspec": {
   "display_name": "Python 3 (ipykernel)",
   "language": "python",
   "name": "python3"
  },
  "language_info": {
   "codemirror_mode": {
    "name": "ipython",
    "version": 3
   },
   "file_extension": ".py",
   "mimetype": "text/x-python",
   "name": "python",
   "nbconvert_exporter": "python",
   "pygments_lexer": "ipython3",
   "version": "3.9.12"
  }
 },
 "nbformat": 4,
 "nbformat_minor": 5
}
