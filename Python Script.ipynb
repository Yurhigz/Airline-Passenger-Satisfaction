{
 "cells": [
  {
   "cell_type": "markdown",
   "id": "cb1c7d2f",
   "metadata": {},
   "source": [
    "# Maven Airlines Case Study for Passenger Satisfaction"
   ]
  },
  {
   "cell_type": "markdown",
   "id": "d7d7c487",
   "metadata": {},
   "source": [
    "## Introduction : "
   ]
  },
  {
   "cell_type": "markdown",
   "id": "9b194954",
   "metadata": {},
   "source": [
    "For this challenge, you'll be assuming the role of Senior Data Analyst for Maven Airlines, a US-based airline headquartered in Boston, Massachusetts. The latest passenger survey results just came in and it looks like the satisfaction rate dipped under 50% for the first time ever. The leadership team needs to take action fast, so they've brought you in to analyze the data and find the key areas to focus on for getting back on track.\n",
    "\n",
    "Your task is to recommend a data-driven strategy for increasing Maven Airlines' satisfaction rate, and present it in the form of a single page report or dashboard."
   ]
  },
  {
   "cell_type": "markdown",
   "id": "a207ce6d",
   "metadata": {},
   "source": [
    "## 1 - Specifications"
   ]
  },
  {
   "cell_type": "markdown",
   "id": "75e75f92",
   "metadata": {},
   "source": [
    "There I will be using the Mavenanalytics data set, as it is made public I assume that everybody is authorized to work on it and I also assume that there is no issue with bias or credibility of this datas."
   ]
  },
  {
   "cell_type": "markdown",
   "id": "ea0d8b70",
   "metadata": {},
   "source": [
    "## 2 - Preliminary questions "
   ]
  },
  {
   "cell_type": "markdown",
   "id": "1e92df24",
   "metadata": {},
   "source": [
    "I wanted to raise as many questions as possible covering all the different criterias of the data set. Basically I will proceed step by step :<br>\n",
    "\n",
    "   - <b>What is the ratio of satisfied passengers to dissatisfied passengers?</b> This one is basic although it remains essential for further analysis <br><br>\n",
    "    \n",
    "   - <b>What is the satisfaction rate by gender stats?</b> By differentiating the gender I might encounter useful results and eventually consider it as a source of improvement for the future recommendations.<br><br>\n",
    "    \n",
    "   - <b>What is the satisfaction rate by customer type of travel and class ?</b> There I will be splitting my results and I could later on focus on what type of class efforts should be made and what kind of travel are most likely required to be worked on<br><br>\n",
    "   - <b>What is the satisfaction rate by flight distance ?</b> There I am going to categorize the travel under 3 categories and use it to increase the granularity of my analysis<br><br>\n",
    "   - Finally, I will also study each features by type of passengers in order to retrieve the factors that affects positively or negatively the customer satisfaction."
   ]
  },
  {
   "cell_type": "markdown",
   "id": "8f3d7551",
   "metadata": {},
   "source": [
    "## 3 - Processing the data"
   ]
  },
  {
   "cell_type": "markdown",
   "id": "8a99e3cc",
   "metadata": {},
   "source": [
    "The data set file provided by MavenAnalytics is an excel CSV file. I had several option to exploit this data set, but in this case I am going to use Python and the famous libraries Pandas,Numpy and Seaborn to visualize all my data. Here my objective is not to provide a one page sumary of all the results but rather a paper which will tackle all the questions I have raised and bring proper explanations and solution as a conclusion. "
   ]
  },
  {
   "cell_type": "markdown",
   "id": "e8a36ccc",
   "metadata": {},
   "source": [
    "First I will import all the required libraries and I will also convert the CSV file as a dataset. "
   ]
  },
  {
   "cell_type": "code",
   "execution_count": null,
   "id": "ba5cb1b5",
   "metadata": {},
   "outputs": [],
   "source": []
  },
  {
   "cell_type": "code",
   "execution_count": null,
   "id": "b4bb18c4",
   "metadata": {},
   "outputs": [],
   "source": []
  }
 ],
 "metadata": {
  "kernelspec": {
   "display_name": "Python 3 (ipykernel)",
   "language": "python",
   "name": "python3"
  },
  "language_info": {
   "codemirror_mode": {
    "name": "ipython",
    "version": 3
   },
   "file_extension": ".py",
   "mimetype": "text/x-python",
   "name": "python",
   "nbconvert_exporter": "python",
   "pygments_lexer": "ipython3",
   "version": "3.9.12"
  }
 },
 "nbformat": 4,
 "nbformat_minor": 5
}
