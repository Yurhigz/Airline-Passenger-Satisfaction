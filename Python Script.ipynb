{
 "cells": [
  {
   "cell_type": "markdown",
   "id": "4f82a520",
   "metadata": {},
   "source": [
    "# Maven Airlines Case Study for Passenger Satisfaction"
   ]
  },
  {
   "cell_type": "markdown",
   "id": "8653bdac",
   "metadata": {},
   "source": [
    "## Introduction : "
   ]
  },
  {
   "cell_type": "markdown",
   "id": "d69d6ec6",
   "metadata": {},
   "source": [
    "For this challenge, you'll be assuming the role of Senior Data Analyst for Maven Airlines, a US-based airline headquartered in Boston, Massachusetts. The latest passenger survey results just came in and it looks like the satisfaction rate dipped under 50% for the first time ever. The leadership team needs to take action fast, so they've brought you in to analyze the data and find the key areas to focus on for getting back on track.\n",
    "\n",
    "Your task is to recommend a data-driven strategy for increasing Maven Airlines' satisfaction rate, and present it in the form of a single page report or dashboard."
   ]
  },
  {
   "cell_type": "markdown",
   "id": "8562b86e",
   "metadata": {},
   "source": [
    "## 1 - Specifications"
   ]
  },
  {
   "cell_type": "markdown",
   "id": "fc84af13",
   "metadata": {},
   "source": [
    "There I will be using the Mavenanalytics data set, as it is made public I assume that everybody is authorized to work on it and I also assume that there is no issue with bias or credibility of this datas."
   ]
  },
  {
   "cell_type": "markdown",
   "id": "a55a22ee",
   "metadata": {},
   "source": [
    "## 2 - Preliminary questions "
   ]
  },
  {
   "cell_type": "markdown",
   "id": "fe44ddef",
   "metadata": {},
   "source": [
    "I wanted to raise as many questions as possible covering all the different criterias of the data set. Basically I will proceed step by step :<br>\n",
    "\n",
    "   - <b>What is the ratio of satisfied passengers to dissatisfied passengers?</b> This one is basic although it remains essential for further analysis <br><br>\n",
    "    \n",
    "   - <b>What is the satisfaction rate by gender stats?</b> By differentiating the gender I might encounter useful results and eventually consider it as a source of improvement for the future recommendations.<br><br>\n",
    "    \n",
    "   - <b>What is the satisfaction rate by customer type of travel and class ?</b> There I will be splitting my results and I could later on focus on what type of class efforts should be made and what kind of travel are most likely required to be worked on<br><br>\n",
    "   - <b>What is the satisfaction rate by flight distance ?</b> There I am going to categorize the travel under 3 categories and use it to increase the granularity of my analysis<br><br>\n",
    "   - Finally, I will also study each features by type of passengers in order to retrieve the factors that affects positively or negatively the customer satisfaction."
   ]
  },
  {
   "cell_type": "markdown",
   "id": "06a57f84",
   "metadata": {},
   "source": [
    "## 3 - Processing the data"
   ]
  },
  {
   "cell_type": "markdown",
   "id": "cc07c4ab",
   "metadata": {},
   "source": [
    "The data set file provided by MavenAnalytics is an excel CSV file. I had several option to exploit this data set, but in this case I am going to use Python and the famous libraries Pandas,Numpy and Seaborn to visualize all my data. Here my objective is not to provide a one page sumary of all the results but rather a paper which will tackle all the questions I have raised and bring proper explanations and solution as a conclusion. "
   ]
  },
  {
   "cell_type": "markdown",
   "id": "9911d4dc",
   "metadata": {},
   "source": [
    "First I will import all the required libraries and I will also convert the CSV file as a dataset. "
   ]
  },
  {
   "cell_type": "code",
   "execution_count": 5,
   "id": "f623c297",
   "metadata": {},
   "outputs": [],
   "source": [
    "import pandas as pd \n",
    "import numpy as np\n",
    "import seaborn as sns\n",
    "import matplotlib.pyplot as plt"
   ]
  },
  {
   "cell_type": "code",
   "execution_count": 6,
   "id": "5c2219f2",
   "metadata": {},
   "outputs": [],
   "source": [
    "df = pd.read_csv('airline_passenger_satisfaction.csv')"
   ]
  },
  {
   "cell_type": "markdown",
   "id": "1b3447b6",
   "metadata": {},
   "source": [
    "Let's inspect quickly the df to get a first glance and eventually spot some issues to correct it quickly."
   ]
  },
  {
   "cell_type": "code",
   "execution_count": 30,
   "id": "9acfc4db",
   "metadata": {},
   "outputs": [
    {
     "data": {
      "text/html": [
       "<div>\n",
       "<style scoped>\n",
       "    .dataframe tbody tr th:only-of-type {\n",
       "        vertical-align: middle;\n",
       "    }\n",
       "\n",
       "    .dataframe tbody tr th {\n",
       "        vertical-align: top;\n",
       "    }\n",
       "\n",
       "    .dataframe thead th {\n",
       "        text-align: right;\n",
       "    }\n",
       "</style>\n",
       "<table border=\"1\" class=\"dataframe\">\n",
       "  <thead>\n",
       "    <tr style=\"text-align: right;\">\n",
       "      <th></th>\n",
       "      <th>id</th>\n",
       "      <th>gender</th>\n",
       "      <th>age</th>\n",
       "      <th>customer_type</th>\n",
       "      <th>type_of_travel</th>\n",
       "      <th>class</th>\n",
       "      <th>flight_distance</th>\n",
       "      <th>departure_delay</th>\n",
       "      <th>arrival_delay</th>\n",
       "      <th>departure_and_arrival_time_convenience</th>\n",
       "      <th>...</th>\n",
       "      <th>on-board_service</th>\n",
       "      <th>seat_comfort</th>\n",
       "      <th>leg_room_service</th>\n",
       "      <th>cleanliness</th>\n",
       "      <th>food_and_drink</th>\n",
       "      <th>in-flight_service</th>\n",
       "      <th>in-flight_wifi_service</th>\n",
       "      <th>in-flight_entertainment</th>\n",
       "      <th>baggage_handling</th>\n",
       "      <th>satisfaction</th>\n",
       "    </tr>\n",
       "  </thead>\n",
       "  <tbody>\n",
       "    <tr>\n",
       "      <th>0</th>\n",
       "      <td>1</td>\n",
       "      <td>Male</td>\n",
       "      <td>48</td>\n",
       "      <td>First-time</td>\n",
       "      <td>Business</td>\n",
       "      <td>Business</td>\n",
       "      <td>821</td>\n",
       "      <td>2</td>\n",
       "      <td>5.0</td>\n",
       "      <td>3</td>\n",
       "      <td>...</td>\n",
       "      <td>3</td>\n",
       "      <td>5</td>\n",
       "      <td>2</td>\n",
       "      <td>5</td>\n",
       "      <td>5</td>\n",
       "      <td>5</td>\n",
       "      <td>3</td>\n",
       "      <td>5</td>\n",
       "      <td>5</td>\n",
       "      <td>Neutral or Dissatisfied</td>\n",
       "    </tr>\n",
       "    <tr>\n",
       "      <th>1</th>\n",
       "      <td>2</td>\n",
       "      <td>Female</td>\n",
       "      <td>35</td>\n",
       "      <td>Returning</td>\n",
       "      <td>Business</td>\n",
       "      <td>Business</td>\n",
       "      <td>821</td>\n",
       "      <td>26</td>\n",
       "      <td>39.0</td>\n",
       "      <td>2</td>\n",
       "      <td>...</td>\n",
       "      <td>5</td>\n",
       "      <td>4</td>\n",
       "      <td>5</td>\n",
       "      <td>5</td>\n",
       "      <td>3</td>\n",
       "      <td>5</td>\n",
       "      <td>2</td>\n",
       "      <td>5</td>\n",
       "      <td>5</td>\n",
       "      <td>Satisfied</td>\n",
       "    </tr>\n",
       "    <tr>\n",
       "      <th>2</th>\n",
       "      <td>3</td>\n",
       "      <td>Male</td>\n",
       "      <td>41</td>\n",
       "      <td>Returning</td>\n",
       "      <td>Business</td>\n",
       "      <td>Business</td>\n",
       "      <td>853</td>\n",
       "      <td>0</td>\n",
       "      <td>0.0</td>\n",
       "      <td>4</td>\n",
       "      <td>...</td>\n",
       "      <td>3</td>\n",
       "      <td>5</td>\n",
       "      <td>3</td>\n",
       "      <td>5</td>\n",
       "      <td>5</td>\n",
       "      <td>3</td>\n",
       "      <td>4</td>\n",
       "      <td>3</td>\n",
       "      <td>3</td>\n",
       "      <td>Satisfied</td>\n",
       "    </tr>\n",
       "    <tr>\n",
       "      <th>3</th>\n",
       "      <td>4</td>\n",
       "      <td>Male</td>\n",
       "      <td>50</td>\n",
       "      <td>Returning</td>\n",
       "      <td>Business</td>\n",
       "      <td>Business</td>\n",
       "      <td>1905</td>\n",
       "      <td>0</td>\n",
       "      <td>0.0</td>\n",
       "      <td>2</td>\n",
       "      <td>...</td>\n",
       "      <td>5</td>\n",
       "      <td>5</td>\n",
       "      <td>5</td>\n",
       "      <td>4</td>\n",
       "      <td>4</td>\n",
       "      <td>5</td>\n",
       "      <td>2</td>\n",
       "      <td>5</td>\n",
       "      <td>5</td>\n",
       "      <td>Satisfied</td>\n",
       "    </tr>\n",
       "    <tr>\n",
       "      <th>4</th>\n",
       "      <td>5</td>\n",
       "      <td>Female</td>\n",
       "      <td>49</td>\n",
       "      <td>Returning</td>\n",
       "      <td>Business</td>\n",
       "      <td>Business</td>\n",
       "      <td>3470</td>\n",
       "      <td>0</td>\n",
       "      <td>1.0</td>\n",
       "      <td>3</td>\n",
       "      <td>...</td>\n",
       "      <td>3</td>\n",
       "      <td>4</td>\n",
       "      <td>4</td>\n",
       "      <td>5</td>\n",
       "      <td>4</td>\n",
       "      <td>3</td>\n",
       "      <td>3</td>\n",
       "      <td>3</td>\n",
       "      <td>3</td>\n",
       "      <td>Satisfied</td>\n",
       "    </tr>\n",
       "  </tbody>\n",
       "</table>\n",
       "<p>5 rows × 24 columns</p>\n",
       "</div>"
      ],
      "text/plain": [
       "   id  gender  age customer_type type_of_travel     class  flight_distance  \\\n",
       "0   1    Male   48    First-time       Business  Business              821   \n",
       "1   2  Female   35     Returning       Business  Business              821   \n",
       "2   3    Male   41     Returning       Business  Business              853   \n",
       "3   4    Male   50     Returning       Business  Business             1905   \n",
       "4   5  Female   49     Returning       Business  Business             3470   \n",
       "\n",
       "   departure_delay  arrival_delay  departure_and_arrival_time_convenience  \\\n",
       "0                2            5.0                                       3   \n",
       "1               26           39.0                                       2   \n",
       "2                0            0.0                                       4   \n",
       "3                0            0.0                                       2   \n",
       "4                0            1.0                                       3   \n",
       "\n",
       "   ...  on-board_service  seat_comfort  leg_room_service  cleanliness  \\\n",
       "0  ...                 3             5                 2            5   \n",
       "1  ...                 5             4                 5            5   \n",
       "2  ...                 3             5                 3            5   \n",
       "3  ...                 5             5                 5            4   \n",
       "4  ...                 3             4                 4            5   \n",
       "\n",
       "   food_and_drink  in-flight_service  in-flight_wifi_service  \\\n",
       "0               5                  5                       3   \n",
       "1               3                  5                       2   \n",
       "2               5                  3                       4   \n",
       "3               4                  5                       2   \n",
       "4               4                  3                       3   \n",
       "\n",
       "   in-flight_entertainment  baggage_handling             satisfaction  \n",
       "0                        5                 5  Neutral or Dissatisfied  \n",
       "1                        5                 5                Satisfied  \n",
       "2                        3                 3                Satisfied  \n",
       "3                        5                 5                Satisfied  \n",
       "4                        3                 3                Satisfied  \n",
       "\n",
       "[5 rows x 24 columns]"
      ]
     },
     "execution_count": 30,
     "metadata": {},
     "output_type": "execute_result"
    }
   ],
   "source": [
    "df.head()"
   ]
  },
  {
   "cell_type": "markdown",
   "id": "ee69d096",
   "metadata": {},
   "source": [
    "First thing, I am going to lowercase and formate the column's headers."
   ]
  },
  {
   "cell_type": "code",
   "execution_count": 28,
   "id": "b8686219",
   "metadata": {},
   "outputs": [],
   "source": [
    "df.columns = df.columns.str.lower().str.replace(' ','_')"
   ]
  },
  {
   "cell_type": "markdown",
   "id": "4e6af85a",
   "metadata": {},
   "source": [
    "Now I am looking for Null or missing value in the entire dataset."
   ]
  },
  {
   "cell_type": "code",
   "execution_count": 35,
   "id": "1b681311",
   "metadata": {},
   "outputs": [
    {
     "data": {
      "text/plain": [
       "id                                          0\n",
       "gender                                      0\n",
       "age                                         0\n",
       "customer_type                               0\n",
       "type_of_travel                              0\n",
       "class                                       0\n",
       "flight_distance                             0\n",
       "departure_delay                             0\n",
       "arrival_delay                             393\n",
       "departure_and_arrival_time_convenience      0\n",
       "ease_of_online_booking                      0\n",
       "check-in_service                            0\n",
       "online_boarding                             0\n",
       "gate_location                               0\n",
       "on-board_service                            0\n",
       "seat_comfort                                0\n",
       "leg_room_service                            0\n",
       "cleanliness                                 0\n",
       "food_and_drink                              0\n",
       "in-flight_service                           0\n",
       "in-flight_wifi_service                      0\n",
       "in-flight_entertainment                     0\n",
       "baggage_handling                            0\n",
       "satisfaction                                0\n",
       "dtype: int64"
      ]
     },
     "execution_count": 35,
     "metadata": {},
     "output_type": "execute_result"
    }
   ],
   "source": [
    "df.isnull().sum()"
   ]
  },
  {
   "cell_type": "markdown",
   "id": "fe0f4d0e",
   "metadata": {},
   "source": [
    "There are missing values in the 'arrival_delay' column. Thus I am going to check for these missing values and eventually replace them by 0 as I assume that means there were no delay."
   ]
  },
  {
   "cell_type": "code",
   "execution_count": 39,
   "id": "171f3536",
   "metadata": {},
   "outputs": [],
   "source": [
    "df.loc[df.arrival_delay.isnull() == True,'arrival_delay'] = 0 "
   ]
  },
  {
   "cell_type": "code",
   "execution_count": 41,
   "id": "fb497ca0",
   "metadata": {},
   "outputs": [
    {
     "name": "stdout",
     "output_type": "stream",
     "text": [
      "<class 'pandas.core.frame.DataFrame'>\n",
      "RangeIndex: 129880 entries, 0 to 129879\n",
      "Data columns (total 24 columns):\n",
      " #   Column                                  Non-Null Count   Dtype  \n",
      "---  ------                                  --------------   -----  \n",
      " 0   id                                      129880 non-null  int64  \n",
      " 1   gender                                  129880 non-null  object \n",
      " 2   age                                     129880 non-null  int64  \n",
      " 3   customer_type                           129880 non-null  object \n",
      " 4   type_of_travel                          129880 non-null  object \n",
      " 5   class                                   129880 non-null  object \n",
      " 6   flight_distance                         129880 non-null  int64  \n",
      " 7   departure_delay                         129880 non-null  int64  \n",
      " 8   arrival_delay                           129880 non-null  float64\n",
      " 9   departure_and_arrival_time_convenience  129880 non-null  int64  \n",
      " 10  ease_of_online_booking                  129880 non-null  int64  \n",
      " 11  check-in_service                        129880 non-null  int64  \n",
      " 12  online_boarding                         129880 non-null  int64  \n",
      " 13  gate_location                           129880 non-null  int64  \n",
      " 14  on-board_service                        129880 non-null  int64  \n",
      " 15  seat_comfort                            129880 non-null  int64  \n",
      " 16  leg_room_service                        129880 non-null  int64  \n",
      " 17  cleanliness                             129880 non-null  int64  \n",
      " 18  food_and_drink                          129880 non-null  int64  \n",
      " 19  in-flight_service                       129880 non-null  int64  \n",
      " 20  in-flight_wifi_service                  129880 non-null  int64  \n",
      " 21  in-flight_entertainment                 129880 non-null  int64  \n",
      " 22  baggage_handling                        129880 non-null  int64  \n",
      " 23  satisfaction                            129880 non-null  object \n",
      "dtypes: float64(1), int64(18), object(5)\n",
      "memory usage: 23.8+ MB\n"
     ]
    }
   ],
   "source": [
    "df.info()"
   ]
  },
  {
   "cell_type": "markdown",
   "id": "98816781",
   "metadata": {},
   "source": [
    "Alright so far it seems there is no more missing values, the data seems coherent. I am going to proceed to specific changes, first I am going to create age categories as it's gonna be useful later on. Second, I will change the value type of the feedback feature to string as I am going to create 5 categories corresponding to the grades from 1 to 5. "
   ]
  },
  {
   "cell_type": "code",
   "execution_count": 42,
   "id": "0952943f",
   "metadata": {},
   "outputs": [],
   "source": [
    "dict_value = { 1 : 'very poor',2 :'poor',3 :'ok',4:'good',5:'very good'}"
   ]
  },
  {
   "cell_type": "code",
   "execution_count": 58,
   "id": "d6c6f4ae",
   "metadata": {},
   "outputs": [],
   "source": [
    "for features in df.loc[:,'departure_and_arrival_time_convenience':'baggage_handling'].columns:\n",
    "    df[features] = df[features].map(dict_value)"
   ]
  },
  {
   "cell_type": "markdown",
   "id": "82b4fb6f",
   "metadata": {},
   "source": [
    "Now the dataset is ready, I have setup all the columns as I wanted, I renamed the headers, I change the value to strings to get better visualization later on, I checked for the missing values, now let's dive into the analysis."
   ]
  },
  {
   "cell_type": "code",
   "execution_count": null,
   "id": "e51d215e",
   "metadata": {},
   "outputs": [],
   "source": [
    "Create à flight distance range column + Age range column "
   ]
  }
 ],
 "metadata": {
  "kernelspec": {
   "display_name": "Python 3 (ipykernel)",
   "language": "python",
   "name": "python3"
  },
  "language_info": {
   "codemirror_mode": {
    "name": "ipython",
    "version": 3
   },
   "file_extension": ".py",
   "mimetype": "text/x-python",
   "name": "python",
   "nbconvert_exporter": "python",
   "pygments_lexer": "ipython3",
   "version": "3.9.12"
  }
 },
 "nbformat": 4,
 "nbformat_minor": 5
}
